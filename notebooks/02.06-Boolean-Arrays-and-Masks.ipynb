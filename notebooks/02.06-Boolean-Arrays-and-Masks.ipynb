{
  "cells": [
    {
      "cell_type": "markdown",
      "metadata": {
        "id": "MzzWzSp_2k2-"
      },
      "source": [
        "<!--BOOK_INFORMATION-->\n",
        "<img align=\"left\" style=\"padding-right:10px;\" src=\"https://github.com/jakevdp/PythonDataScienceHandbook/blob/master/notebooks/figures/PDSH-cover-small.png?raw=1\">\n",
        "\n",
        "*This notebook contains an excerpt from the [Python Data Science Handbook](http://shop.oreilly.com/product/0636920034919.do) by Jake VanderPlas; the content is available [on GitHub](https://github.com/jakevdp/PythonDataScienceHandbook).*\n",
        "\n",
        "*The text is released under the [CC-BY-NC-ND license](https://creativecommons.org/licenses/by-nc-nd/3.0/us/legalcode), and code is released under the [MIT license](https://opensource.org/licenses/MIT). If you find this content useful, please consider supporting the work by [buying the book](http://shop.oreilly.com/product/0636920034919.do)!*"
      ]
    },
    {
      "cell_type": "markdown",
      "metadata": {
        "id": "f4cQmlux2k3A"
      },
      "source": [
        "<!--NAVIGATION-->\n",
        "< [Computation on Arrays: Broadcasting](02.05-Computation-on-arrays-broadcasting.ipynb) | [Contents](Index.ipynb) | [Fancy Indexing](02.07-Fancy-Indexing.ipynb) >\n",
        "\n",
        "<a href=\"https://colab.research.google.com/github/jakevdp/PythonDataScienceHandbook/blob/master/notebooks/02.06-Boolean-Arrays-and-Masks.ipynb\"><img align=\"left\" src=\"https://colab.research.google.com/assets/colab-badge.svg\" alt=\"Open in Colab\" title=\"Open and Execute in Google Colaboratory\"></a>\n"
      ]
    },
    {
      "cell_type": "markdown",
      "metadata": {
        "id": "hqjr1xuM2k3B"
      },
      "source": [
        "# Comparisons, Masks, and Boolean Logic"
      ]
    },
    {
      "cell_type": "markdown",
      "metadata": {
        "id": "gLofseeI2k3B"
      },
      "source": [
        "This section covers the use of Boolean masks to examine and manipulate values within NumPy arrays.\n",
        "Masking comes up when you want to extract, modify, count, or otherwise manipulate values in an array based on some criterion: for example, you might wish to count all values greater than a certain value, or perhaps remove all outliers that are above some threshold.\n",
        "In NumPy, Boolean masking is often the most efficient way to accomplish these types of tasks."
      ]
    },
    {
      "cell_type": "markdown",
      "metadata": {
        "id": "w2NHFIgv2k3C"
      },
      "source": [
        "## Example: Counting Rainy Days\n",
        "\n",
        "Imagine you have a series of data that represents the amount of precipitation each day for a year in a given city.\n",
        "For example, here we'll load the daily rainfall statistics for the city of Seattle in 2014, using Pandas (which is covered in more detail in [Chapter 3](03.00-Introduction-to-Pandas.ipynb)):"
      ]
    },
    {
      "cell_type": "code",
      "execution_count": null,
      "metadata": {
        "id": "ITOF3-V72k3C",
        "outputId": "f9e1ad80-70c6-4341-89d7-641371cbe934"
      },
      "outputs": [
        {
          "data": {
            "text/plain": [
              "(365,)"
            ]
          },
          "execution_count": 1,
          "metadata": {},
          "output_type": "execute_result"
        }
      ],
      "source": [
        "import numpy as np\n",
        "import pandas as pd\n",
        "\n",
        "# use pandas to extract rainfall inches as a NumPy array\n",
        "rainfall = pd.read_csv('data/Seattle2014.csv')['PRCP'].values\n",
        "inches = rainfall / 254.0  # 1/10mm -> inches\n",
        "inches.shape"
      ]
    },
    {
      "cell_type": "markdown",
      "metadata": {
        "id": "ZQDnH6Gv2k3D"
      },
      "source": [
        "The array contains 365 values, giving daily rainfall in inches from January 1 to December 31, 2014.\n",
        "\n",
        "As a first quick visualization, let's look at the histogram of rainy days, which was generated using Matplotlib (we will explore this tool more fully in [Chapter 4](04.00-Introduction-To-Matplotlib.ipynb)):"
      ]
    },
    {
      "cell_type": "code",
      "execution_count": null,
      "metadata": {
        "id": "WndkKKXP2k3E"
      },
      "outputs": [],
      "source": [
        "%matplotlib inline\n",
        "import matplotlib.pyplot as plt\n",
        "import seaborn; seaborn.set()  # set plot styles"
      ]
    },
    {
      "cell_type": "code",
      "execution_count": null,
      "metadata": {
        "id": "2az34HoU2k3E",
        "outputId": "6c8d3e6f-1a49-4f01-d010-693411763087"
      },
      "outputs": [
        {
          "data": {
            "image/png": "[encoded data removed]",
            "text/plain": [
              "<matplotlib.figure.Figure at 0x10b617a58>"
            ]
          },
          "metadata": {},
          "output_type": "display_data"
        }
      ],
      "source": [
        "plt.hist(inches, 40);"
      ]
    },
    {
      "cell_type": "markdown",
      "metadata": {
        "id": "q6o9VIUD2k3F"
      },
      "source": [
        "This histogram gives us a general idea of what the data looks like: despite its reputation, the vast majority of days in Seattle saw near zero measured rainfall in 2014.\n",
        "But this doesn't do a good job of conveying some information we'd like to see: for example, how many rainy days were there in the year? What is the average precipitation on those rainy days? How many days were there with more than half an inch of rain?"
      ]
    },
    {
      "cell_type": "markdown",
      "metadata": {
        "id": "iTGfPneO2k3G"
      },
      "source": [
        "### Digging into the data\n",
        "\n",
        "One approach to this would be to answer these questions by hand: loop through the data, incrementing a counter each time we see values in some desired range.\n",
        "For reasons discussed throughout this chapter, such an approach is very inefficient, both from the standpoint of time writing code and time computing the result.\n",
        "We saw in [Computation on NumPy Arrays: Universal Functions](02.03-Computation-on-arrays-ufuncs.ipynb) that NumPy's ufuncs can be used in place of loops to do fast element-wise arithmetic operations on arrays; in the same way, we can use other ufuncs to do element-wise *comparisons* over arrays, and we can then manipulate the results to answer the questions we have.\n",
        "We'll leave the data aside for right now, and discuss some general tools in NumPy to use *masking* to quickly answer these types of questions."
      ]
    },
    {
      "cell_type": "markdown",
      "metadata": {
        "id": "xqTsDU6x2k3H"
      },
      "source": [
        "## Comparison Operators as ufuncs\n",
        "\n",
        "In [Computation on NumPy Arrays: Universal Functions](02.03-Computation-on-arrays-ufuncs.ipynb) we introduced ufuncs, and focused in particular on arithmetic operators. We saw that using ``+``, ``-``, ``*``, ``/``, and others on arrays leads to element-wise operations.\n",
        "NumPy also implements comparison operators such as ``<`` (less than) and ``>`` (greater than) as element-wise ufuncs.\n",
        "The result of these comparison operators is always an array with a Boolean data type.\n",
        "All six of the standard comparison operations are available:"
      ]
    },
    {
      "cell_type": "code",
      "execution_count": null,
      "metadata": {
        "collapsed": true,
        "id": "0_8YaVVy2k3H"
      },
      "outputs": [],
      "source": [
        "x = np.array([1, 2, 3, 4, 5])"
      ]
    },
    {
      "cell_type": "code",
      "execution_count": null,
      "metadata": {
        "id": "7qqJiNJ82k3H",
        "outputId": "48569369-7055-4775-c6c2-2d8f449f7f5f"
      },
      "outputs": [
        {
          "data": {
            "text/plain": [
              "array([ True,  True, False, False, False], dtype=bool)"
            ]
          },
          "execution_count": 5,
          "metadata": {},
          "output_type": "execute_result"
        }
      ],
      "source": [
        "x < 3  # less than"
      ]
    },
    {
      "cell_type": "code",
      "execution_count": null,
      "metadata": {
        "id": "Y7X3Bvzb2k3I",
        "outputId": "364b4a0f-8f8a-42a1-f090-1586540f24cd"
      },
      "outputs": [
        {
          "data": {
            "text/plain": [
              "array([False, False, False,  True,  True], dtype=bool)"
            ]
          },
          "execution_count": 6,
          "metadata": {},
          "output_type": "execute_result"
        }
      ],
      "source": [
        "x > 3  # greater than"
      ]
    },
    {
      "cell_type": "code",
      "execution_count": null,
      "metadata": {
        "id": "i43UQbgl2k3I",
        "outputId": "82df9f61-4eda-4e5f-a033-7ad15afe6c8b"
      },
      "outputs": [
        {
          "data": {
            "text/plain": [
              "array([ True,  True,  True, False, False], dtype=bool)"
            ]
          },
          "execution_count": 7,
          "metadata": {},
          "output_type": "execute_result"
        }
      ],
      "source": [
        "x <= 3  # less than or equal"
      ]
    },
    {
      "cell_type": "code",
      "execution_count": null,
      "metadata": {
        "id": "4i8yO4lm2k3I",
        "outputId": "0a5e77d2-49fb-45e6-a2f9-c5d8f07b594d"
      },
      "outputs": [
        {
          "data": {
            "text/plain": [
              "array([False, False,  True,  True,  True], dtype=bool)"
            ]
          },
          "execution_count": 8,
          "metadata": {},
          "output_type": "execute_result"
        }
      ],
      "source": [
        "x >= 3  # greater than or equal"
      ]
    },
    {
      "cell_type": "code",
      "execution_count": null,
      "metadata": {
        "id": "443lOa-y2k3J",
        "outputId": "4b7d927a-8d63-428f-ea2a-cc8f062fddff"
      },
      "outputs": [
        {
          "data": {
            "text/plain": [
              "array([ True,  True, False,  True,  True], dtype=bool)"
            ]
          },
          "execution_count": 9,
          "metadata": {},
          "output_type": "execute_result"
        }
      ],
      "source": [
        "x != 3  # not equal"
      ]
    },
    {
      "cell_type": "code",
      "execution_count": null,
      "metadata": {
        "id": "ztZL4YVR2k3J",
        "outputId": "61a1d647-7e0b-47f2-c24a-8fe7eccf48c4"
      },
      "outputs": [
        {
          "data": {
            "text/plain": [
              "array([False, False,  True, False, False], dtype=bool)"
            ]
          },
          "execution_count": 10,
          "metadata": {},
          "output_type": "execute_result"
        }
      ],
      "source": [
        "x == 3  # equal"
      ]
    },
    {
      "cell_type": "markdown",
      "metadata": {
        "id": "qzz6sEAv2k3K"
      },
      "source": [
        "It is also possible to do an element-wise comparison of two arrays, and to include compound expressions:"
      ]
    },
    {
      "cell_type": "code",
      "execution_count": null,
      "metadata": {
        "id": "Tkl62Rx52k3K",
        "outputId": "b4a52232-d204-4a51-b7e9-635fc9bafaf0"
      },
      "outputs": [
        {
          "data": {
            "text/plain": [
              "array([False,  True, False, False, False], dtype=bool)"
            ]
          },
          "execution_count": 11,
          "metadata": {},
          "output_type": "execute_result"
        }
      ],
      "source": [
        "(2 * x) == (x ** 2)"
      ]
    },
    {
      "cell_type": "markdown",
      "metadata": {
        "id": "gDOMSNVn2k3K"
      },
      "source": [
        "As in the case of arithmetic operators, the comparison operators are implemented as ufuncs in NumPy; for example, when you write ``x < 3``, internally NumPy uses ``np.less(x, 3)``.\n",
        "    A summary of the comparison operators and their equivalent ufunc is shown here:\n",
        "\n",
        "| Operator\t    | Equivalent ufunc    || Operator\t   | Equivalent ufunc    |\n",
        "|---------------|---------------------||---------------|---------------------|\n",
        "|``==``         |``np.equal``         ||``!=``         |``np.not_equal``     |\n",
        "|``<``          |``np.less``          ||``<=``         |``np.less_equal``    |\n",
        "|``>``          |``np.greater``       ||``>=``         |``np.greater_equal`` |"
      ]
    },
    {
      "cell_type": "markdown",
      "metadata": {
        "id": "L6PCc5zp2k3L"
      },
      "source": [
        "Just as in the case of arithmetic ufuncs, these will work on arrays of any size and shape.\n",
        "Here is a two-dimensional example:"
      ]
    },
    {
      "cell_type": "code",
      "execution_count": null,
      "metadata": {
        "id": "aiyPdx8F2k3M",
        "outputId": "e8f284db-6e9e-4e4b-8f89-5276a09022ec"
      },
      "outputs": [
        {
          "data": {
            "text/plain": [
              "array([[5, 0, 3, 3],\n",
              "       [7, 9, 3, 5],\n",
              "       [2, 4, 7, 6]])"
            ]
          },
          "execution_count": 12,
          "metadata": {},
          "output_type": "execute_result"
        }
      ],
      "source": [
        "rng = np.random.RandomState(0)\n",
        "x = rng.randint(10, size=(3, 4))\n",
        "x"
      ]
    },
    {
      "cell_type": "code",
      "execution_count": null,
      "metadata": {
        "id": "5U5kbzgh2k3M",
        "outputId": "0e98f5eb-ba81-4b21-d878-8edaf95b3496"
      },
      "outputs": [
        {
          "data": {
            "text/plain": [
              "array([[ True,  True,  True,  True],\n",
              "       [False, False,  True,  True],\n",
              "       [ True,  True, False, False]], dtype=bool)"
            ]
          },
          "execution_count": 13,
          "metadata": {},
          "output_type": "execute_result"
        }
      ],
      "source": [
        "x < 6"
      ]
    },
    {
      "cell_type": "markdown",
      "metadata": {
        "id": "n5k09F9l2k3N"
      },
      "source": [
        "In each case, the result is a Boolean array, and NumPy provides a number of straightforward patterns for working with these Boolean results."
      ]
    },
    {
      "cell_type": "markdown",
      "metadata": {
        "id": "yJYZnnIA2k3N"
      },
      "source": [
        "## Working with Boolean Arrays\n",
        "\n",
        "Given a Boolean array, there are a host of useful operations you can do.\n",
        "We'll work with ``x``, the two-dimensional array we created earlier."
      ]
    },
    {
      "cell_type": "code",
      "execution_count": null,
      "metadata": {
        "id": "nXwLpEXS2k3N",
        "outputId": "d9bdba01-558d-4207-93be-8fc203b933db"
      },
      "outputs": [
        {
          "name": "stdout",
          "output_type": "stream",
          "text": [
            "[[5 0 3 3]\n",
            " [7 9 3 5]\n",
            " [2 4 7 6]]\n"
          ]
        }
      ],
      "source": [
        "print(x)"
      ]
    },
    {
      "cell_type": "markdown",
      "metadata": {
        "id": "UHtgpq7P2k3N"
      },
      "source": [
        "### Counting entries\n",
        "\n",
        "To count the number of ``True`` entries in a Boolean array, ``np.count_nonzero`` is useful:"
      ]
    },
    {
      "cell_type": "code",
      "execution_count": null,
      "metadata": {
        "id": "geNDBQJm2k3O",
        "outputId": "82a07392-adf2-4530-b7ce-355b8c7e7235"
      },
      "outputs": [
        {
          "data": {
            "text/plain": [
              "8"
            ]
          },
          "execution_count": 15,
          "metadata": {},
          "output_type": "execute_result"
        }
      ],
      "source": [
        "# how many values less than 6?\n",
        "np.count_nonzero(x < 6)"
      ]
    },
    {
      "cell_type": "markdown",
      "metadata": {
        "id": "nNCzmPLp2k3O"
      },
      "source": [
        "We see that there are eight array entries that are less than 6.\n",
        "Another way to get at this information is to use ``np.sum``; in this case, ``False`` is interpreted as ``0``, and ``True`` is interpreted as ``1``:"
      ]
    },
    {
      "cell_type": "code",
      "execution_count": null,
      "metadata": {
        "id": "Fk2H-WLr2k3O",
        "outputId": "65e040a8-74c7-41a4-beb3-f045dadfd840"
      },
      "outputs": [
        {
          "data": {
            "text/plain": [
              "8"
            ]
          },
          "execution_count": 16,
          "metadata": {},
          "output_type": "execute_result"
        }
      ],
      "source": [
        "np.sum(x < 6)"
      ]
    },
    {
      "cell_type": "markdown",
      "metadata": {
        "id": "UfTOM1n42k3O"
      },
      "source": [
        "The benefit of ``sum()`` is that like with other NumPy aggregation functions, this summation can be done along rows or columns as well:"
      ]
    },
    {
      "cell_type": "code",
      "execution_count": null,
      "metadata": {
        "id": "xEYNTNC82k3O",
        "outputId": "3c20f8ba-20e1-4c6a-8d82-c10bea997e91"
      },
      "outputs": [
        {
          "data": {
            "text/plain": [
              "array([4, 2, 2])"
            ]
          },
          "execution_count": 17,
          "metadata": {},
          "output_type": "execute_result"
        }
      ],
      "source": [
        "# how many values less than 6 in each row?\n",
        "np.sum(x < 6, axis=1)"
      ]
    },
    {
      "cell_type": "markdown",
      "metadata": {
        "id": "_117yYe82k3O"
      },
      "source": [
        "This counts the number of values less than 6 in each row of the matrix.\n",
        "\n",
        "If we're interested in quickly checking whether any or all the values are true, we can use (you guessed it) ``np.any`` or ``np.all``:"
      ]
    },
    {
      "cell_type": "code",
      "execution_count": null,
      "metadata": {
        "id": "R0tfFor42k3P",
        "outputId": "6c2e8e14-ef49-4832-c0cd-ab86672a8adb"
      },
      "outputs": [
        {
          "data": {
            "text/plain": [
              "True"
            ]
          },
          "execution_count": 18,
          "metadata": {},
          "output_type": "execute_result"
        }
      ],
      "source": [
        "# are there any values greater than 8?\n",
        "np.any(x > 8)"
      ]
    },
    {
      "cell_type": "code",
      "execution_count": null,
      "metadata": {
        "id": "L5yGxAOi2k3Q",
        "outputId": "ed1b4918-b357-4cce-9a50-e5775a09907e"
      },
      "outputs": [
        {
          "data": {
            "text/plain": [
              "False"
            ]
          },
          "execution_count": 19,
          "metadata": {},
          "output_type": "execute_result"
        }
      ],
      "source": [
        "# are there any values less than zero?\n",
        "np.any(x < 0)"
      ]
    },
    {
      "cell_type": "code",
      "execution_count": null,
      "metadata": {
        "id": "eJUpAeP42k3Q",
        "outputId": "ce50be73-f8f7-470a-b647-6ec63549940d"
      },
      "outputs": [
        {
          "data": {
            "text/plain": [
              "True"
            ]
          },
          "execution_count": 20,
          "metadata": {},
          "output_type": "execute_result"
        }
      ],
      "source": [
        "# are all values less than 10?\n",
        "np.all(x < 10)"
      ]
    },
    {
      "cell_type": "code",
      "execution_count": null,
      "metadata": {
        "id": "r4BmC5Pe2k3Q",
        "outputId": "877730df-3125-432e-cfcb-e9e7fbd45b8b"
      },
      "outputs": [
        {
          "data": {
            "text/plain": [
              "False"
            ]
          },
          "execution_count": 21,
          "metadata": {},
          "output_type": "execute_result"
        }
      ],
      "source": [
        "# are all values equal to 6?\n",
        "np.all(x == 6)"
      ]
    },
    {
      "cell_type": "markdown",
      "metadata": {
        "id": "PaaGFAMJ2k3R"
      },
      "source": [
        "``np.all`` and ``np.any`` can be used along particular axes as well. For example:"
      ]
    },
    {
      "cell_type": "code",
      "execution_count": null,
      "metadata": {
        "id": "_0q_fgF52k3R",
        "outputId": "f47280c6-e7e4-4e0d-8ca1-3dbed3253ada"
      },
      "outputs": [
        {
          "data": {
            "text/plain": [
              "array([ True, False,  True], dtype=bool)"
            ]
          },
          "execution_count": 22,
          "metadata": {},
          "output_type": "execute_result"
        }
      ],
      "source": [
        "# are all values in each row less than 8?\n",
        "np.all(x < 8, axis=1)"
      ]
    },
    {
      "cell_type": "markdown",
      "metadata": {
        "id": "7OtFuDQl2k3R"
      },
      "source": [
        "Here all the elements in the first and third rows are less than 8, while this is not the case for the second row.\n",
        "\n",
        "Finally, a quick warning: as mentioned in [Aggregations: Min, Max, and Everything In Between](02.04-Computation-on-arrays-aggregates.ipynb), Python has built-in ``sum()``, ``any()``, and ``all()`` functions. These have a different syntax than the NumPy versions, and in particular will fail or produce unintended results when used on multidimensional arrays. Be sure that you are using ``np.sum()``, ``np.any()``, and ``np.all()`` for these examples!"
      ]
    },
    {
      "cell_type": "markdown",
      "metadata": {
        "id": "MC66g4LW2k3R"
      },
      "source": [
        "### Boolean operators\n",
        "\n",
        "We've already seen how we might count, say, all days with rain less than four inches, or all days with rain greater than two inches.\n",
        "But what if we want to know about all days with rain less than four inches and greater than one inch?\n",
        "This is accomplished through Python's *bitwise logic operators*, ``&``, ``|``, ``^``, and ``~``.\n",
        "Like with the standard arithmetic operators, NumPy overloads these as ufuncs which work element-wise on (usually Boolean) arrays.\n",
        "\n",
        "For example, we can address this sort of compound question as follows:"
      ]
    },
    {
      "cell_type": "code",
      "execution_count": null,
      "metadata": {
        "id": "rzm7vGvG2k3R",
        "outputId": "c6e226ce-99b2-4377-daff-e51c7dcf5568"
      },
      "outputs": [
        {
          "data": {
            "text/plain": [
              "29"
            ]
          },
          "execution_count": 23,
          "metadata": {},
          "output_type": "execute_result"
        }
      ],
      "source": [
        "np.sum((inches > 0.5) & (inches < 1))"
      ]
    },
    {
      "cell_type": "markdown",
      "metadata": {
        "id": "hg8L5lrv2k3S"
      },
      "source": [
        "So we see that there are 29 days with rainfall between 0.5 and 1.0 inches.\n",
        "\n",
        "Note that the parentheses here are important–because of operator precedence rules, with parentheses removed this expression would be evaluated as follows, which results in an error:\n",
        "\n",
        "``` python\n",
        "inches > (0.5 & inches) < 1\n",
        "```\n",
        "\n",
        "Using the equivalence of *A AND B* and *NOT (NOT A OR NOT B)* (which you may remember if you've taken an introductory logic course), we can compute the same result in a different manner:"
      ]
    },
    {
      "cell_type": "code",
      "execution_count": null,
      "metadata": {
        "id": "Nb9fgxt52k3S",
        "outputId": "24c4f7a3-8644-4a31-c752-27f9843058bd"
      },
      "outputs": [
        {
          "data": {
            "text/plain": [
              "29"
            ]
          },
          "execution_count": 24,
          "metadata": {},
          "output_type": "execute_result"
        }
      ],
      "source": [
        "np.sum(~( (inches <= 0.5) | (inches >= 1) ))"
      ]
    },
    {
      "cell_type": "markdown",
      "metadata": {
        "id": "Mtkhpvkk2k3S"
      },
      "source": [
        "Combining comparison operators and Boolean operators on arrays can lead to a wide range of efficient logical operations.\n",
        "\n",
        "The following table summarizes the bitwise Boolean operators and their equivalent ufuncs:"
      ]
    },
    {
      "cell_type": "markdown",
      "metadata": {
        "id": "Iln3ngV_2k3T"
      },
      "source": [
        "| Operator\t    | Equivalent ufunc    || Operator\t    | Equivalent ufunc    |\n",
        "|---------------|---------------------||---------------|---------------------|\n",
        "|``&``          |``np.bitwise_and``   ||&#124;         |``np.bitwise_or``    |\n",
        "|``^``          |``np.bitwise_xor``   ||``~``          |``np.bitwise_not``   |"
      ]
    },
    {
      "cell_type": "markdown",
      "metadata": {
        "id": "bTx_Vhcg2k3T"
      },
      "source": [
        "Using these tools, we might start to answer the types of questions we have about our weather data.\n",
        "Here are some examples of results we can compute when combining masking with aggregations:"
      ]
    },
    {
      "cell_type": "code",
      "execution_count": null,
      "metadata": {
        "id": "czxxLVk02k3T",
        "outputId": "c0ef9d8f-3c90-4ef6-c6b0-f8a7bfad35c5"
      },
      "outputs": [
        {
          "name": "stdout",
          "output_type": "stream",
          "text": [
            "Number days without rain:       215\n",
            "Number days with rain:          150\n",
            "Days with more than 0.5 inches: 37\n",
            "Rainy days with < 0.2 inches  : 75\n"
          ]
        }
      ],
      "source": [
        "print(\"Number days without rain:      \", np.sum(inches == 0))\n",
        "print(\"Number days with rain:         \", np.sum(inches != 0))\n",
        "print(\"Days with more than 0.5 inches:\", np.sum(inches > 0.5))\n",
        "print(\"Rainy days with < 0.2 inches  :\", np.sum((inches > 0) &\n",
        "                                                (inches < 0.2)))"
      ]
    },
    {
      "cell_type": "markdown",
      "metadata": {
        "id": "bdfYAlU_2k3T"
      },
      "source": [
        "## Boolean Arrays as Masks\n",
        "\n",
        "In the preceding section we looked at aggregates computed directly on Boolean arrays.\n",
        "A more powerful pattern is to use Boolean arrays as masks, to select particular subsets of the data themselves.\n",
        "Returning to our ``x`` array from before, suppose we want an array of all values in the array that are less than, say, 5:"
      ]
    },
    {
      "cell_type": "code",
      "execution_count": null,
      "metadata": {
        "id": "xxGk92Vd2k3U",
        "outputId": "5af517a5-e2eb-4e1d-e559-e5bcef77a30f"
      },
      "outputs": [
        {
          "data": {
            "text/plain": [
              "array([[5, 0, 3, 3],\n",
              "       [7, 9, 3, 5],\n",
              "       [2, 4, 7, 6]])"
            ]
          },
          "execution_count": 26,
          "metadata": {},
          "output_type": "execute_result"
        }
      ],
      "source": [
        "x"
      ]
    },
    {
      "cell_type": "markdown",
      "metadata": {
        "id": "UXK4_ddY2k3U"
      },
      "source": [
        "We can obtain a Boolean array for this condition easily, as we've already seen:"
      ]
    },
    {
      "cell_type": "code",
      "execution_count": null,
      "metadata": {
        "id": "JSWLWQC82k3U",
        "outputId": "53a16ba8-30eb-4c36-9e56-f1c7eafbd2b1"
      },
      "outputs": [
        {
          "data": {
            "text/plain": [
              "array([[False,  True,  True,  True],\n",
              "       [False, False,  True, False],\n",
              "       [ True,  True, False, False]], dtype=bool)"
            ]
          },
          "execution_count": 27,
          "metadata": {},
          "output_type": "execute_result"
        }
      ],
      "source": [
        "x < 5"
      ]
    },
    {
      "cell_type": "markdown",
      "metadata": {
        "id": "128aywqX2k3U"
      },
      "source": [
        "Now to *select* these values from the array, we can simply index on this Boolean array; this is known as a *masking* operation:"
      ]
    },
    {
      "cell_type": "code",
      "execution_count": null,
      "metadata": {
        "id": "cBbNePfl2k3V",
        "outputId": "29984ea1-6c2d-4752-d27f-05792d36045d"
      },
      "outputs": [
        {
          "data": {
            "text/plain": [
              "array([0, 3, 3, 3, 2, 4])"
            ]
          },
          "execution_count": 28,
          "metadata": {},
          "output_type": "execute_result"
        }
      ],
      "source": [
        "x[x < 5]"
      ]
    },
    {
      "cell_type": "markdown",
      "metadata": {
        "id": "kG5x_vGa2k3V"
      },
      "source": [
        "What is returned is a one-dimensional array filled with all the values that meet this condition; in other words, all the values in positions at which the mask array is ``True``.\n",
        "\n",
        "We are then free to operate on these values as we wish.\n",
        "For example, we can compute some relevant statistics on our Seattle rain data:"
      ]
    },
    {
      "cell_type": "code",
      "execution_count": null,
      "metadata": {
        "id": "UFfFCI1j2k3b",
        "outputId": "ce746ca9-79c5-4998-9780-245a380ea7e6"
      },
      "outputs": [
        {
          "name": "stdout",
          "output_type": "stream",
          "text": [
            "Median precip on rainy days in 2014 (inches):    0.194881889764\n",
            "Median precip on summer days in 2014 (inches):   0.0\n",
            "Maximum precip on summer days in 2014 (inches):  0.850393700787\n",
            "Median precip on non-summer rainy days (inches): 0.200787401575\n"
          ]
        }
      ],
      "source": [
        "# construct a mask of all rainy days\n",
        "rainy = (inches > 0)\n",
        "\n",
        "# construct a mask of all summer days (June 21st is the 172nd day)\n",
        "days = np.arange(365)\n",
        "summer = (days > 172) & (days < 262)\n",
        "\n",
        "print(\"Median precip on rainy days in 2014 (inches):   \",\n",
        "      np.median(inches[rainy]))\n",
        "print(\"Median precip on summer days in 2014 (inches):  \",\n",
        "      np.median(inches[summer]))\n",
        "print(\"Maximum precip on summer days in 2014 (inches): \",\n",
        "      np.max(inches[summer]))\n",
        "print(\"Median precip on non-summer rainy days (inches):\",\n",
        "      np.median(inches[rainy & ~summer]))"
      ]
    },
    {
      "cell_type": "markdown",
      "metadata": {
        "id": "_-JYR3kZ2k3b"
      },
      "source": [
        "By combining Boolean operations, masking operations, and aggregates, we can very quickly answer these sorts of questions for our dataset."
      ]
    },
    {
      "cell_type": "markdown",
      "metadata": {
        "id": "d9RRGuTq2k3c"
      },
      "source": [
        "## Aside: Using the Keywords and/or Versus the Operators &/|\n",
        "\n",
        "One common point of confusion is the difference between the keywords ``and`` and ``or`` on one hand, and the operators ``&`` and ``|`` on the other hand.\n",
        "When would you use one versus the other?\n",
        "\n",
        "The difference is this: ``and`` and ``or`` gauge the truth or falsehood of *entire object*, while ``&`` and ``|`` refer to *bits within each object*.\n",
        "\n",
        "When you use ``and`` or ``or``, it's equivalent to asking Python to treat the object as a single Boolean entity.\n",
        "In Python, all nonzero integers will evaluate as True. Thus:"
      ]
    },
    {
      "cell_type": "code",
      "execution_count": null,
      "metadata": {
        "id": "d4112LKq2k3c",
        "outputId": "50d5f90e-9359-49d2-a945-870d59c3bb57"
      },
      "outputs": [
        {
          "data": {
            "text/plain": [
              "(True, False)"
            ]
          },
          "execution_count": 30,
          "metadata": {},
          "output_type": "execute_result"
        }
      ],
      "source": [
        "bool(42), bool(0)"
      ]
    },
    {
      "cell_type": "code",
      "execution_count": null,
      "metadata": {
        "id": "JamMq00P2k3c",
        "outputId": "ba0bf374-8227-4743-d65a-b89ba270cf07"
      },
      "outputs": [
        {
          "data": {
            "text/plain": [
              "False"
            ]
          },
          "execution_count": 31,
          "metadata": {},
          "output_type": "execute_result"
        }
      ],
      "source": [
        "bool(42 and 0)"
      ]
    },
    {
      "cell_type": "code",
      "execution_count": null,
      "metadata": {
        "id": "4Isd2K2K2k3c",
        "outputId": "2ee58c1e-c024-438b-dc27-d50f6d920223"
      },
      "outputs": [
        {
          "data": {
            "text/plain": [
              "True"
            ]
          },
          "execution_count": 32,
          "metadata": {},
          "output_type": "execute_result"
        }
      ],
      "source": [
        "bool(42 or 0)"
      ]
    },
    {
      "cell_type": "markdown",
      "metadata": {
        "id": "AbwDeYpO2k3d"
      },
      "source": [
        "When you use ``&`` and ``|`` on integers, the expression operates on the bits of the element, applying the *and* or the *or* to the individual bits making up the number:"
      ]
    },
    {
      "cell_type": "code",
      "execution_count": null,
      "metadata": {
        "id": "-7yGzHgs2k3d",
        "outputId": "eb88c8d9-321c-4378-fb3d-a0fbd5329681"
      },
      "outputs": [
        {
          "data": {
            "text/plain": [
              "'0b101010'"
            ]
          },
          "execution_count": 33,
          "metadata": {},
          "output_type": "execute_result"
        }
      ],
      "source": [
        "bin(42)"
      ]
    },
    {
      "cell_type": "code",
      "execution_count": null,
      "metadata": {
        "id": "7S0JdUdY2k3d",
        "outputId": "552bed44-c3db-44e1-e1df-d3bb208e74fa"
      },
      "outputs": [
        {
          "data": {
            "text/plain": [
              "'0b111011'"
            ]
          },
          "execution_count": 34,
          "metadata": {},
          "output_type": "execute_result"
        }
      ],
      "source": [
        "bin(59)"
      ]
    },
    {
      "cell_type": "code",
      "execution_count": null,
      "metadata": {
        "id": "Uyb1jiXK2k3d",
        "outputId": "7b25ab33-8565-475a-ca47-c8ebabb2fdc3"
      },
      "outputs": [
        {
          "data": {
            "text/plain": [
              "'0b101010'"
            ]
          },
          "execution_count": 35,
          "metadata": {},
          "output_type": "execute_result"
        }
      ],
      "source": [
        "bin(42 & 59)"
      ]
    },
    {
      "cell_type": "code",
      "execution_count": null,
      "metadata": {
        "id": "NblEuRoh2k3d",
        "outputId": "98a54e53-517f-43a2-db94-cccb92d241ea"
      },
      "outputs": [
        {
          "data": {
            "text/plain": [
              "'0b111011'"
            ]
          },
          "execution_count": 36,
          "metadata": {},
          "output_type": "execute_result"
        }
      ],
      "source": [
        "bin(42 | 59)"
      ]
    },
    {
      "cell_type": "markdown",
      "metadata": {
        "id": "czJh6pgJ2k3d"
      },
      "source": [
        "Notice that the corresponding bits of the binary representation are compared in order to yield the result.\n",
        "\n",
        "When you have an array of Boolean values in NumPy, this can be thought of as a string of bits where ``1 = True`` and ``0 = False``, and the result of ``&`` and ``|`` operates similarly to above:"
      ]
    },
    {
      "cell_type": "code",
      "execution_count": null,
      "metadata": {
        "id": "8ECHqahs2k3d",
        "outputId": "4debc346-3a59-4487-a4d7-e9c02f5d438f"
      },
      "outputs": [
        {
          "data": {
            "text/plain": [
              "array([ True,  True,  True, False,  True,  True], dtype=bool)"
            ]
          },
          "execution_count": 37,
          "metadata": {},
          "output_type": "execute_result"
        }
      ],
      "source": [
        "A = np.array([1, 0, 1, 0, 1, 0], dtype=bool)\n",
        "B = np.array([1, 1, 1, 0, 1, 1], dtype=bool)\n",
        "A | B"
      ]
    },
    {
      "cell_type": "markdown",
      "metadata": {
        "id": "iCv44aUo2k3e"
      },
      "source": [
        "Using ``or`` on these arrays will try to evaluate the truth or falsehood of the entire array object, which is not a well-defined value:"
      ]
    },
    {
      "cell_type": "code",
      "execution_count": null,
      "metadata": {
        "id": "QgwBCxdJ2k3e",
        "outputId": "f1c90983-1c30-4fc3-f659-3ededbee4881"
      },
      "outputs": [
        {
          "ename": "ValueError",
          "evalue": "The truth value of an array with more than one element is ambiguous. Use a.any() or a.all()",
          "output_type": "error",
          "traceback": [
            "\u001b[0;31m---------------------------------------------------------------------------\u001b[0m",
            "\u001b[0;31mValueError\u001b[0m                                Traceback (most recent call last)",
            "\u001b[0;32m<ipython-input-38-5d8e4f2e21c0>\u001b[0m in \u001b[0;36m<module>\u001b[0;34m()\u001b[0m\n\u001b[0;32m----> 1\u001b[0;31m \u001b[0mA\u001b[0m \u001b[0;32mor\u001b[0m \u001b[0mB\u001b[0m\u001b[0;34m\u001b[0m\u001b[0m\n\u001b[0m",
            "\u001b[0;31mValueError\u001b[0m: The truth value of an array with more than one element is ambiguous. Use a.any() or a.all()"
          ]
        }
      ],
      "source": [
        "A or B"
      ]
    },
    {
      "cell_type": "markdown",
      "metadata": {
        "id": "c2IRvg7Z2k3e"
      },
      "source": [
        "Similarly, when doing a Boolean expression on a given array, you should use ``|`` or ``&`` rather than ``or`` or ``and``:"
      ]
    },
    {
      "cell_type": "code",
      "execution_count": null,
      "metadata": {
        "id": "7rQg-WkS2k3e",
        "outputId": "5a8ce578-e536-4da4-c11e-4c0b6e208107"
      },
      "outputs": [
        {
          "data": {
            "text/plain": [
              "array([False, False, False, False, False,  True,  True,  True, False, False], dtype=bool)"
            ]
          },
          "execution_count": 39,
          "metadata": {},
          "output_type": "execute_result"
        }
      ],
      "source": [
        "x = np.arange(10)\n",
        "(x > 4) & (x < 8)"
      ]
    },
    {
      "cell_type": "markdown",
      "metadata": {
        "id": "Q13ZYFIA2k3f"
      },
      "source": [
        "Trying to evaluate the truth or falsehood of the entire array will give the same ``ValueError`` we saw previously:"
      ]
    },
    {
      "cell_type": "code",
      "execution_count": null,
      "metadata": {
        "id": "MMrXKVQZ2k3f",
        "outputId": "f81d91b1-8aa2-476c-d7a2-51516123dece"
      },
      "outputs": [
        {
          "ename": "ValueError",
          "evalue": "The truth value of an array with more than one element is ambiguous. Use a.any() or a.all()",
          "output_type": "error",
          "traceback": [
            "\u001b[0;31m---------------------------------------------------------------------------\u001b[0m",
            "\u001b[0;31mValueError\u001b[0m                                Traceback (most recent call last)",
            "\u001b[0;32m<ipython-input-40-3d24f1ffd63d>\u001b[0m in \u001b[0;36m<module>\u001b[0;34m()\u001b[0m\n\u001b[0;32m----> 1\u001b[0;31m \u001b[0;34m(\u001b[0m\u001b[0mx\u001b[0m \u001b[0;34m>\u001b[0m \u001b[0;36m4\u001b[0m\u001b[0;34m)\u001b[0m \u001b[0;32mand\u001b[0m \u001b[0;34m(\u001b[0m\u001b[0mx\u001b[0m \u001b[0;34m<\u001b[0m \u001b[0;36m8\u001b[0m\u001b[0;34m)\u001b[0m\u001b[0;34m\u001b[0m\u001b[0m\n\u001b[0m",
            "\u001b[0;31mValueError\u001b[0m: The truth value of an array with more than one element is ambiguous. Use a.any() or a.all()"
          ]
        }
      ],
      "source": [
        "(x > 4) and (x < 8)"
      ]
    },
    {
      "cell_type": "markdown",
      "metadata": {
        "id": "XtZ_TtOP2k3f"
      },
      "source": [
        "So remember this: ``and`` and ``or`` perform a single Boolean evaluation on an entire object, while ``&`` and ``|`` perform multiple Boolean evaluations on the content (the individual bits or bytes) of an object.\n",
        "For Boolean NumPy arrays, the latter is nearly always the desired operation."
      ]
    },
    {
      "cell_type": "markdown",
      "metadata": {
        "id": "TaV6g3Yl2k3f"
      },
      "source": [
        "<!--NAVIGATION-->\n",
        "< [Computation on Arrays: Broadcasting](02.05-Computation-on-arrays-broadcasting.ipynb) | [Contents](Index.ipynb) | [Fancy Indexing](02.07-Fancy-Indexing.ipynb) >\n",
        "\n",
        "<a href=\"https://colab.research.google.com/github/jakevdp/PythonDataScienceHandbook/blob/master/notebooks/02.06-Boolean-Arrays-and-Masks.ipynb\"><img align=\"left\" src=\"https://colab.research.google.com/assets/colab-badge.svg\" alt=\"Open in Colab\" title=\"Open and Execute in Google Colaboratory\"></a>\n"
      ]
    }
  ],
  "metadata": {
    "anaconda-cloud": {},
    "kernelspec": {
      "display_name": "Python 3",
      "language": "python",
      "name": "python3"
    },
    "language_info": {
      "codemirror_mode": {
        "name": "ipython",
        "version": 3
      },
      "file_extension": ".py",
      "mimetype": "text/x-python",
      "name": "python",
      "nbconvert_exporter": "python",
      "pygments_lexer": "ipython3",
      "version": "3.5.1"
    },
    "colab": {
      "provenance": []
    }
  },
  "nbformat": 4,
  "nbformat_minor": 0
}